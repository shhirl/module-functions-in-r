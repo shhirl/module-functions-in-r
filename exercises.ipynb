{
 "cells": [
  {
   "cell_type": "markdown",
   "metadata": {
    "ein.tags": "worksheet-0",
    "slideshow": {
     "slide_type": "-"
    }
   },
   "source": [
    "## Writing Functions\n",
    "\n",
    "The goal of this exercise is to replicate the process from the slides, but with multivariate data. You should think of this as a practise of two things: \n",
    "\n",
    "1. Performing linear algebra in R. This is straight forward, but takes some practise. Especially worth noting how to use vectors and scalars together, as you see how to modify the functions we originally wrote for scalars, such that they work for vectors.\n",
    "\n",
    "2. Writing small functions and testing them. Make sure each part works before trying to combine them into a whole!"
   ]
  },
  {
   "cell_type": "code",
   "execution_count": 2,
   "metadata": {},
   "outputs": [
    {
     "data": {
      "text/html": [
       "25"
      ],
      "text/latex": [
       "25"
      ],
      "text/markdown": [
       "25"
      ],
      "text/plain": [
       "[1] 25"
      ]
     },
     "metadata": {},
     "output_type": "display_data"
    }
   ],
   "source": [
    "x<-5\n",
    "x*x"
   ]
  },
  {
   "cell_type": "code",
   "execution_count": 6,
   "metadata": {},
   "outputs": [
    {
     "data": {
      "text/html": [
       "<ol class=list-inline>\n",
       "\t<li>0.107664493094319</li>\n",
       "\t<li>0.33893304169292</li>\n",
       "\t<li>-0.303716295360796</li>\n",
       "\t<li>-0.276823094755132</li>\n",
       "\t<li>-0.553426389274164</li>\n",
       "\t<li>0.443119246081918</li>\n",
       "\t<li>-0.235678200401613</li>\n",
       "\t<li>0.374156459485121</li>\n",
       "\t<li>-0.596574637646752</li>\n",
       "\t<li>-0.409655379702055</li>\n",
       "\t<li>0.582359421489271</li>\n",
       "\t<li>0.293440954742818</li>\n",
       "\t<li>-0.0904121735725289</li>\n",
       "\t<li>0.449373704488481</li>\n",
       "\t<li>1.23246511394274</li>\n",
       "\t<li>1.37270871470201</li>\n",
       "\t<li>0.0482409973658823</li>\n",
       "\t<li>-2.63969844430715</li>\n",
       "\t<li>0.271356872020449</li>\n",
       "\t<li>1.3419668909993</li>\n",
       "\t<li>0.158133651062908</li>\n",
       "\t<li>0.262062800836777</li>\n",
       "\t<li>2.09554732387305</li>\n",
       "\t<li>0.299374475717618</li>\n",
       "\t<li>0.967036743998564</li>\n",
       "\t<li>0.417732319360193</li>\n",
       "\t<li>0.660047793333916</li>\n",
       "\t<li>-0.415006754706039</li>\n",
       "\t<li>0.920805591843449</li>\n",
       "\t<li>-0.358279515442371</li>\n",
       "\t<li>-1.78611541801533</li>\n",
       "\t<li>1.99435610672746</li>\n",
       "\t<li>1.51305210250539</li>\n",
       "\t<li>0.276459673568635</li>\n",
       "\t<li>-1.32153641652553</li>\n",
       "\t<li>2.28502383241227</li>\n",
       "\t<li>-0.887448106184984</li>\n",
       "\t<li>0.0981961216348281</li>\n",
       "\t<li>-1.79737791303152</li>\n",
       "\t<li>-2.12217951383438</li>\n",
       "\t<li>-0.335817181460702</li>\n",
       "\t<li>1.42728023828188</li>\n",
       "\t<li>-0.996378669944008</li>\n",
       "\t<li>-0.960047322139387</li>\n",
       "\t<li>0.769665195943262</li>\n",
       "\t<li>-1.1554399730845</li>\n",
       "\t<li>1.18708112714423</li>\n",
       "\t<li>1.40831184504332</li>\n",
       "\t<li>-0.354586565415558</li>\n",
       "\t<li>0.812105823223383</li>\n",
       "\t<li>-0.538058228981558</li>\n",
       "\t<li>0.94887687518138</li>\n",
       "\t<li>-1.4482315918237</li>\n",
       "\t<li>-0.510600504996948</li>\n",
       "\t<li>-1.31610588469643</li>\n",
       "\t<li>-0.86425078912977</li>\n",
       "\t<li>1.64089895798477</li>\n",
       "\t<li>0.877149163767637</li>\n",
       "\t<li>-1.3912815281533</li>\n",
       "\t<li>0.344205699103317</li>\n",
       "\t<li>0.460560882107093</li>\n",
       "\t<li>0.141500654178394</li>\n",
       "\t<li>-0.72437792962191</li>\n",
       "\t<li>-0.179236843295327</li>\n",
       "\t<li>0.337077408727719</li>\n",
       "\t<li>0.367995667871369</li>\n",
       "\t<li>-1.34718066702078</li>\n",
       "\t<li>1.14122205074675</li>\n",
       "\t<li>0.368870897278538</li>\n",
       "\t<li>-0.896016694778869</li>\n",
       "\t<li>-0.565498518566736</li>\n",
       "\t<li>0.975913554052823</li>\n",
       "\t<li>0.853783437963856</li>\n",
       "\t<li>-0.902420255861064</li>\n",
       "\t<li>0.383583222156383</li>\n",
       "\t<li>1.74993453973682</li>\n",
       "\t<li>-0.84929106046046</li>\n",
       "\t<li>-0.44068859625993</li>\n",
       "\t<li>-1.23789023531585</li>\n",
       "\t<li>-0.558906993138524</li>\n",
       "\t<li>0.321992412802315</li>\n",
       "\t<li>-0.879050746814239</li>\n",
       "\t<li>-1.08462357947617</li>\n",
       "\t<li>-0.81449779284534</li>\n",
       "\t<li>-1.7685794419142</li>\n",
       "\t<li>0.910903636166504</li>\n",
       "\t<li>0.44300799217849</li>\n",
       "\t<li>0.487041578503751</li>\n",
       "\t<li>1.15594528816461</li>\n",
       "\t<li>-0.884500507724772</li>\n",
       "\t<li>-0.168137627868457</li>\n",
       "\t<li>-1.77928386619047</li>\n",
       "\t<li>-0.840664984314047</li>\n",
       "\t<li>0.245109701842384</li>\n",
       "\t<li>-0.820752332975884</li>\n",
       "\t<li>-0.115262914041761</li>\n",
       "\t<li>0.377540783326742</li>\n",
       "\t<li>1.3945392173271</li>\n",
       "\t<li>0.189142917333636</li>\n",
       "\t<li>-1.0465305814404</li>\n",
       "</ol>\n"
      ],
      "text/latex": [
       "\\begin{enumerate*}\n",
       "\\item 0.107664493094319\n",
       "\\item 0.33893304169292\n",
       "\\item -0.303716295360796\n",
       "\\item -0.276823094755132\n",
       "\\item -0.553426389274164\n",
       "\\item 0.443119246081918\n",
       "\\item -0.235678200401613\n",
       "\\item 0.374156459485121\n",
       "\\item -0.596574637646752\n",
       "\\item -0.409655379702055\n",
       "\\item 0.582359421489271\n",
       "\\item 0.293440954742818\n",
       "\\item -0.0904121735725289\n",
       "\\item 0.449373704488481\n",
       "\\item 1.23246511394274\n",
       "\\item 1.37270871470201\n",
       "\\item 0.0482409973658823\n",
       "\\item -2.63969844430715\n",
       "\\item 0.271356872020449\n",
       "\\item 1.3419668909993\n",
       "\\item 0.158133651062908\n",
       "\\item 0.262062800836777\n",
       "\\item 2.09554732387305\n",
       "\\item 0.299374475717618\n",
       "\\item 0.967036743998564\n",
       "\\item 0.417732319360193\n",
       "\\item 0.660047793333916\n",
       "\\item -0.415006754706039\n",
       "\\item 0.920805591843449\n",
       "\\item -0.358279515442371\n",
       "\\item -1.78611541801533\n",
       "\\item 1.99435610672746\n",
       "\\item 1.51305210250539\n",
       "\\item 0.276459673568635\n",
       "\\item -1.32153641652553\n",
       "\\item 2.28502383241227\n",
       "\\item -0.887448106184984\n",
       "\\item 0.0981961216348281\n",
       "\\item -1.79737791303152\n",
       "\\item -2.12217951383438\n",
       "\\item -0.335817181460702\n",
       "\\item 1.42728023828188\n",
       "\\item -0.996378669944008\n",
       "\\item -0.960047322139387\n",
       "\\item 0.769665195943262\n",
       "\\item -1.1554399730845\n",
       "\\item 1.18708112714423\n",
       "\\item 1.40831184504332\n",
       "\\item -0.354586565415558\n",
       "\\item 0.812105823223383\n",
       "\\item -0.538058228981558\n",
       "\\item 0.94887687518138\n",
       "\\item -1.4482315918237\n",
       "\\item -0.510600504996948\n",
       "\\item -1.31610588469643\n",
       "\\item -0.86425078912977\n",
       "\\item 1.64089895798477\n",
       "\\item 0.877149163767637\n",
       "\\item -1.3912815281533\n",
       "\\item 0.344205699103317\n",
       "\\item 0.460560882107093\n",
       "\\item 0.141500654178394\n",
       "\\item -0.72437792962191\n",
       "\\item -0.179236843295327\n",
       "\\item 0.337077408727719\n",
       "\\item 0.367995667871369\n",
       "\\item -1.34718066702078\n",
       "\\item 1.14122205074675\n",
       "\\item 0.368870897278538\n",
       "\\item -0.896016694778869\n",
       "\\item -0.565498518566736\n",
       "\\item 0.975913554052823\n",
       "\\item 0.853783437963856\n",
       "\\item -0.902420255861064\n",
       "\\item 0.383583222156383\n",
       "\\item 1.74993453973682\n",
       "\\item -0.84929106046046\n",
       "\\item -0.44068859625993\n",
       "\\item -1.23789023531585\n",
       "\\item -0.558906993138524\n",
       "\\item 0.321992412802315\n",
       "\\item -0.879050746814239\n",
       "\\item -1.08462357947617\n",
       "\\item -0.81449779284534\n",
       "\\item -1.7685794419142\n",
       "\\item 0.910903636166504\n",
       "\\item 0.44300799217849\n",
       "\\item 0.487041578503751\n",
       "\\item 1.15594528816461\n",
       "\\item -0.884500507724772\n",
       "\\item -0.168137627868457\n",
       "\\item -1.77928386619047\n",
       "\\item -0.840664984314047\n",
       "\\item 0.245109701842384\n",
       "\\item -0.820752332975884\n",
       "\\item -0.115262914041761\n",
       "\\item 0.377540783326742\n",
       "\\item 1.3945392173271\n",
       "\\item 0.189142917333636\n",
       "\\item -1.0465305814404\n",
       "\\end{enumerate*}\n"
      ],
      "text/markdown": [
       "1. 0.107664493094319\n",
       "2. 0.33893304169292\n",
       "3. -0.303716295360796\n",
       "4. -0.276823094755132\n",
       "5. -0.553426389274164\n",
       "6. 0.443119246081918\n",
       "7. -0.235678200401613\n",
       "8. 0.374156459485121\n",
       "9. -0.596574637646752\n",
       "10. -0.409655379702055\n",
       "11. 0.582359421489271\n",
       "12. 0.293440954742818\n",
       "13. -0.0904121735725289\n",
       "14. 0.449373704488481\n",
       "15. 1.23246511394274\n",
       "16. 1.37270871470201\n",
       "17. 0.0482409973658823\n",
       "18. -2.63969844430715\n",
       "19. 0.271356872020449\n",
       "20. 1.3419668909993\n",
       "21. 0.158133651062908\n",
       "22. 0.262062800836777\n",
       "23. 2.09554732387305\n",
       "24. 0.299374475717618\n",
       "25. 0.967036743998564\n",
       "26. 0.417732319360193\n",
       "27. 0.660047793333916\n",
       "28. -0.415006754706039\n",
       "29. 0.920805591843449\n",
       "30. -0.358279515442371\n",
       "31. -1.78611541801533\n",
       "32. 1.99435610672746\n",
       "33. 1.51305210250539\n",
       "34. 0.276459673568635\n",
       "35. -1.32153641652553\n",
       "36. 2.28502383241227\n",
       "37. -0.887448106184984\n",
       "38. 0.0981961216348281\n",
       "39. -1.79737791303152\n",
       "40. -2.12217951383438\n",
       "41. -0.335817181460702\n",
       "42. 1.42728023828188\n",
       "43. -0.996378669944008\n",
       "44. -0.960047322139387\n",
       "45. 0.769665195943262\n",
       "46. -1.1554399730845\n",
       "47. 1.18708112714423\n",
       "48. 1.40831184504332\n",
       "49. -0.354586565415558\n",
       "50. 0.812105823223383\n",
       "51. -0.538058228981558\n",
       "52. 0.94887687518138\n",
       "53. -1.4482315918237\n",
       "54. -0.510600504996948\n",
       "55. -1.31610588469643\n",
       "56. -0.86425078912977\n",
       "57. 1.64089895798477\n",
       "58. 0.877149163767637\n",
       "59. -1.3912815281533\n",
       "60. 0.344205699103317\n",
       "61. 0.460560882107093\n",
       "62. 0.141500654178394\n",
       "63. -0.72437792962191\n",
       "64. -0.179236843295327\n",
       "65. 0.337077408727719\n",
       "66. 0.367995667871369\n",
       "67. -1.34718066702078\n",
       "68. 1.14122205074675\n",
       "69. 0.368870897278538\n",
       "70. -0.896016694778869\n",
       "71. -0.565498518566736\n",
       "72. 0.975913554052823\n",
       "73. 0.853783437963856\n",
       "74. -0.902420255861064\n",
       "75. 0.383583222156383\n",
       "76. 1.74993453973682\n",
       "77. -0.84929106046046\n",
       "78. -0.44068859625993\n",
       "79. -1.23789023531585\n",
       "80. -0.558906993138524\n",
       "81. 0.321992412802315\n",
       "82. -0.879050746814239\n",
       "83. -1.08462357947617\n",
       "84. -0.81449779284534\n",
       "85. -1.7685794419142\n",
       "86. 0.910903636166504\n",
       "87. 0.44300799217849\n",
       "88. 0.487041578503751\n",
       "89. 1.15594528816461\n",
       "90. -0.884500507724772\n",
       "91. -0.168137627868457\n",
       "92. -1.77928386619047\n",
       "93. -0.840664984314047\n",
       "94. 0.245109701842384\n",
       "95. -0.820752332975884\n",
       "96. -0.115262914041761\n",
       "97. 0.377540783326742\n",
       "98. 1.3945392173271\n",
       "99. 0.189142917333636\n",
       "100. -1.0465305814404\n",
       "\n",
       "\n"
      ],
      "text/plain": [
       "  [1]  0.10766449  0.33893304 -0.30371630 -0.27682309 -0.55342639  0.44311925\n",
       "  [7] -0.23567820  0.37415646 -0.59657464 -0.40965538  0.58235942  0.29344095\n",
       " [13] -0.09041217  0.44937370  1.23246511  1.37270871  0.04824100 -2.63969844\n",
       " [19]  0.27135687  1.34196689  0.15813365  0.26206280  2.09554732  0.29937448\n",
       " [25]  0.96703674  0.41773232  0.66004779 -0.41500675  0.92080559 -0.35827952\n",
       " [31] -1.78611542  1.99435611  1.51305210  0.27645967 -1.32153642  2.28502383\n",
       " [37] -0.88744811  0.09819612 -1.79737791 -2.12217951 -0.33581718  1.42728024\n",
       " [43] -0.99637867 -0.96004732  0.76966520 -1.15543997  1.18708113  1.40831185\n",
       " [49] -0.35458657  0.81210582 -0.53805823  0.94887688 -1.44823159 -0.51060050\n",
       " [55] -1.31610588 -0.86425079  1.64089896  0.87714916 -1.39128153  0.34420570\n",
       " [61]  0.46056088  0.14150065 -0.72437793 -0.17923684  0.33707741  0.36799567\n",
       " [67] -1.34718067  1.14122205  0.36887090 -0.89601669 -0.56549852  0.97591355\n",
       " [73]  0.85378344 -0.90242026  0.38358322  1.74993454 -0.84929106 -0.44068860\n",
       " [79] -1.23789024 -0.55890699  0.32199241 -0.87905075 -1.08462358 -0.81449779\n",
       " [85] -1.76857944  0.91090364  0.44300799  0.48704158  1.15594529 -0.88450051\n",
       " [91] -0.16813763 -1.77928387 -0.84066498  0.24510970 -0.82075233 -0.11526291\n",
       " [97]  0.37754078  1.39453922  0.18914292 -1.04653058"
      ]
     },
     "metadata": {},
     "output_type": "display_data"
    }
   ],
   "source": [
    "#rnorm is a built in function that generates random normal variables\n",
    "#random normal\n",
    "rnorm(100, 0, 1)"
   ]
  },
  {
   "cell_type": "code",
   "execution_count": 5,
   "metadata": {},
   "outputs": [
    {
     "data": {
      "text/html": [
       "<pre class=language-r><code>function (N, beta, sd) \n",
       "{\n",
       "<span style=white-space:pre-wrap>    x &lt;- rnorm(N, 0, 1)</span>\n",
       "<span style=white-space:pre-wrap>    eps &lt;- rnorm(N, 0, sd)</span>\n",
       "<span style=white-space:pre-wrap>    y &lt;- beta * x + eps</span>\n",
       "<span style=white-space:pre-wrap>    list(x = x, y = y)</span>\n",
       "}</code></pre>"
      ],
      "text/latex": [
       "\\begin{minted}{r}\n",
       "function (N, beta, sd) \n",
       "\\{\n",
       "    x <- rnorm(N, 0, 1)\n",
       "    eps <- rnorm(N, 0, sd)\n",
       "    y <- beta * x + eps\n",
       "    list(x = x, y = y)\n",
       "\\}\n",
       "\\end{minted}"
      ],
      "text/markdown": [
       "```r\n",
       "function (N, beta, sd) \n",
       "{\n",
       "    x <- rnorm(N, 0, 1)\n",
       "    eps <- rnorm(N, 0, sd)\n",
       "    y <- beta * x + eps\n",
       "    list(x = x, y = y)\n",
       "}\n",
       "```"
      ],
      "text/plain": [
       "function(N, beta, sd) {\n",
       "    x <- rnorm(N,0,1)\n",
       "    eps <- rnorm(N,0,sd)\n",
       "    y<- beta*x + eps\n",
       "    list(x=x, y=y)\n",
       "}"
      ]
     },
     "metadata": {},
     "output_type": "display_data"
    }
   ],
   "source": [
    "generate_data <- function(N, beta, sd) {\n",
    "    x <- rnorm(N,0,1)\n",
    "    eps <- rnorm(N,0,sd)\n",
    "    y <- beta*x + eps\n",
    "    list(x=x, y=y) #this outputed list will have 2 names x and y\n",
    "}\n",
    "\n"
   ]
  },
  {
   "cell_type": "code",
   "execution_count": 7,
   "metadata": {},
   "outputs": [],
   "source": [
    "run_regression <- function(y,x) {\n",
    "    coef <- ??\n",
    "    se <- ??\n",
    "    list(coef=coef, se=se)\n",
    "}"
   ]
  },
  {
   "cell_type": "code",
   "execution_count": 8,
   "metadata": {},
   "outputs": [],
   "source": [
    "#this is a one line function so we dont have to use squirly brackets\n",
    "calc_coef <- function(y,x) cov(x,y)/var(x)"
   ]
  },
  {
   "cell_type": "code",
   "execution_count": null,
   "metadata": {},
   "outputs": [],
   "source": [
    "calc_se <- function(y, x, coef){\n",
    "    n<-length(y)\n",
    "    eps\n",
    "    \n",
    "    \n",
    "    ###unfunished!! look at slides for this code\n",
    "}"
   ]
  },
  {
   "cell_type": "code",
   "execution_count": null,
   "metadata": {},
   "outputs": [],
   "source": []
  },
  {
   "cell_type": "code",
   "execution_count": null,
   "metadata": {},
   "outputs": [],
   "source": []
  },
  {
   "cell_type": "code",
   "execution_count": null,
   "metadata": {},
   "outputs": [],
   "source": []
  },
  {
   "cell_type": "code",
   "execution_count": null,
   "metadata": {},
   "outputs": [],
   "source": []
  },
  {
   "cell_type": "code",
   "execution_count": null,
   "metadata": {},
   "outputs": [],
   "source": []
  },
  {
   "cell_type": "code",
   "execution_count": 1,
   "metadata": {
    "autoscroll": false,
    "ein.hycell": false,
    "ein.tags": "worksheet-0",
    "scrolled": true,
    "slideshow": {
     "slide_type": "-"
    }
   },
   "outputs": [
    {
     "name": "stderr",
     "output_type": "stream",
     "text": [
      "── \u001b[1mAttaching packages\u001b[22m ─────────────────────────────────────── tidyverse 1.2.1 ──\n",
      "\u001b[32m✔\u001b[39m \u001b[34mggplot2\u001b[39m 3.2.1     \u001b[32m✔\u001b[39m \u001b[34mpurrr  \u001b[39m 0.3.2\n",
      "\u001b[32m✔\u001b[39m \u001b[34mtibble \u001b[39m 2.1.3     \u001b[32m✔\u001b[39m \u001b[34mdplyr  \u001b[39m 0.8.3\n",
      "\u001b[32m✔\u001b[39m \u001b[34mtidyr  \u001b[39m 0.8.3     \u001b[32m✔\u001b[39m \u001b[34mstringr\u001b[39m 1.4.0\n",
      "\u001b[32m✔\u001b[39m \u001b[34mreadr  \u001b[39m 1.3.1     \u001b[32m✔\u001b[39m \u001b[34mforcats\u001b[39m 0.4.0\n",
      "── \u001b[1mConflicts\u001b[22m ────────────────────────────────────────── tidyverse_conflicts() ──\n",
      "\u001b[31m✖\u001b[39m \u001b[34mdplyr\u001b[39m::\u001b[32mfilter()\u001b[39m masks \u001b[34mstats\u001b[39m::filter()\n",
      "\u001b[31m✖\u001b[39m \u001b[34mdplyr\u001b[39m::\u001b[32mlag()\u001b[39m    masks \u001b[34mstats\u001b[39m::lag()\n"
     ]
    }
   ],
   "source": [
    "library(tidyverse)"
   ]
  },
  {
   "cell_type": "code",
   "execution_count": 325,
   "metadata": {
    "autoscroll": false,
    "ein.hycell": false,
    "ein.tags": "worksheet-0",
    "slideshow": {
     "slide_type": "-"
    }
   },
   "outputs": [],
   "source": [
    "# Write a function that generates data for regressions, \n",
    "\n",
    "# y should be generated according to: \n",
    "# y <- X %*% beta + eps\n",
    "# X should be several columns of independent random normals (aka a multivariate random \n",
    "# normal matrix with diagonal covariance)\n",
    "# eps should be such that:\n",
    "# eps <- rnorm(1, 0, sd)\n",
    "\n",
    "# beta should be a vector\n",
    "# params should be a DATAFRAME/TIBBLE with two columns: \"mean\" and \"sd\" to generate the features (X) \n",
    "# sd should be a scalar: the standard deviation of the normally distributed error term in the DGP\n",
    "\n",
    "# hint: use cbind to bind vectors into the columns of a matrix or the library MASS with the function mvrnorm\n",
    "\n",
    "\n",
    "generate_data <- function(N, beta, params, sd) { \n",
    "    list(X=X, y=y)\n",
    "}"
   ]
  },
  {
   "cell_type": "code",
   "execution_count": 326,
   "metadata": {},
   "outputs": [],
   "source": [
    "# Write other helper functions, as in the slides, and eventually a function \"avg_simulations\" that takes\n",
    "# the same parameters as generate_data, plus an \"M\" parameter that controls how many simulations are run"
   ]
  },
  {
   "cell_type": "markdown",
   "metadata": {},
   "source": [
    "## Tests\n",
    "\n",
    "Make sure the following assertions pass:"
   ]
  },
  {
   "cell_type": "code",
   "execution_count": null,
   "metadata": {},
   "outputs": [],
   "source": [
    "a <- avg_simulations(1000, \n",
    "                20, \n",
    "                c(1,2,1), \n",
    "                data.frame(list(mean=c(0,0,0), sd=c(.2, .5, .3))), \n",
    "                .5)\n",
    "\n",
    "stopifnot(round(a, 1) == .9)"
   ]
  },
  {
   "cell_type": "code",
   "execution_count": null,
   "metadata": {},
   "outputs": [],
   "source": [
    "a <- avg_simulations(1000, \n",
    "                500, \n",
    "                c(1,2,1), \n",
    "                data.frame(list(mean=c(0,0,0), sd=c(.2, .5, .3))), \n",
    "                .5)\n",
    "\n",
    "stopifnot(a > .92)"
   ]
  }
 ],
 "metadata": {
  "kernelspec": {
   "display_name": "R",
   "language": "R",
   "name": "ir"
  },
  "language_info": {
   "codemirror_mode": "r",
   "file_extension": ".r",
   "mimetype": "text/x-r-source",
   "name": "R",
   "pygments_lexer": "r",
   "version": "3.6.1"
  },
  "name": "exercises.ipynb"
 },
 "nbformat": 4,
 "nbformat_minor": 2
}
